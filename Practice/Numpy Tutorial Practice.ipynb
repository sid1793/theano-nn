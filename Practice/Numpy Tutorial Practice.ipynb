{
 "cells": [
  {
   "cell_type": "code",
   "execution_count": 2,
   "metadata": {
    "collapsed": true
   },
   "outputs": [],
   "source": [
    "import numpy as np\n",
    "import matplotlib.pyplot as plt"
   ]
  },
  {
   "cell_type": "code",
   "execution_count": 3,
   "metadata": {
    "collapsed": false
   },
   "outputs": [],
   "source": [
    "a = np.array([1,2,3])"
   ]
  },
  {
   "cell_type": "code",
   "execution_count": 16,
   "metadata": {
    "collapsed": false
   },
   "outputs": [
    {
     "name": "stdout",
     "output_type": "stream",
     "text": [
      "<type 'numpy.ndarray'> (3,) 5 2 3\n",
      "[5 2 3]\n",
      "[[1 2 3]\n",
      " [3 4 5]] (2, 3)\n",
      "2\n"
     ]
    }
   ],
   "source": [
    "print type(a), a.shape, a[0],a[1],a[2]\n",
    "a[0] = 5\n",
    "print a\n",
    "b = np.array([[1,2,3],[3,4,5]])\n",
    "print b,b.shape\n",
    "print b[0,1]"
   ]
  },
  {
   "cell_type": "code",
   "execution_count": 25,
   "metadata": {
    "collapsed": false
   },
   "outputs": [
    {
     "name": "stdout",
     "output_type": "stream",
     "text": [
      "[[ 0.  0.]\n",
      " [ 0.  0.]]\n",
      "[[ 1.  1.]\n",
      " [ 1.  1.]]\n",
      "[[ 0.40098137  0.44058979]\n",
      " [ 0.28266791  0.69636939]]\n",
      "[[ 1.  0.  0.  0.]\n",
      " [ 0.  1.  0.  0.]\n",
      " [ 0.  0.  1.  0.]\n",
      " [ 0.  0.  0.  1.]]\n",
      "[[ 7.  7.  7.  7.]\n",
      " [ 7.  7.  7.  7.]\n",
      " [ 7.  7.  7.  7.]]\n"
     ]
    },
    {
     "name": "stderr",
     "output_type": "stream",
     "text": [
      "/Users/Siddhesh/anaconda2/lib/python2.7/site-packages/numpy/core/numeric.py:301: FutureWarning: in the future, full((3, 4), 7) will return an array of dtype('int64')\n",
      "  format(shape, fill_value, array(fill_value).dtype), FutureWarning)\n"
     ]
    }
   ],
   "source": [
    "print np.zeros((2,2))\n",
    "print np.ones((2,2))\n",
    "print np.random.random((2,2))\n",
    "print np.eye(4)\n",
    "print np.full((3,4),7)"
   ]
  },
  {
   "cell_type": "code",
   "execution_count": 30,
   "metadata": {
    "collapsed": false
   },
   "outputs": [
    {
     "name": "stdout",
     "output_type": "stream",
     "text": [
      "(3, 4)\n",
      "[[ 1  2  3  4]\n",
      " [ 5  6  7  8]\n",
      " [ 9 10 11 12]]\n",
      "[[1 2 3]\n",
      " [5 6 7]]\n",
      "10\n"
     ]
    }
   ],
   "source": [
    "a = np.array([[1,2,3,4], [5,6,7,8], [9,10,11,12]])\n",
    "print a.shape\n",
    "b = a[:2,:3]\n",
    "print a\n",
    "print b\n",
    "b[0,0] = 10\n",
    "print a[0,0]"
   ]
  },
  {
   "cell_type": "code",
   "execution_count": 31,
   "metadata": {
    "collapsed": false
   },
   "outputs": [
    {
     "name": "stdout",
     "output_type": "stream",
     "text": [
      "[5 6 7 8] (4,)\n",
      "[[5 6 7 8]] (1, 4)\n"
     ]
    }
   ],
   "source": [
    "row_rank1 = a[1,:]\n",
    "row_rank2 = a[1:2,:]\n",
    "print row_rank1, row_rank1.shape\n",
    "print row_rank2, row_rank2.shape"
   ]
  },
  {
   "cell_type": "code",
   "execution_count": 37,
   "metadata": {
    "collapsed": false
   },
   "outputs": [
    {
     "name": "stdout",
     "output_type": "stream",
     "text": [
      "[2 7 1]\n",
      "[2 7 1]\n",
      "[1 1]\n"
     ]
    }
   ],
   "source": [
    "print a[[0,1,0],[1,2,0]]\n",
    "print np.array(a[[0,1,0],[1,2,0]])\n",
    "print a[[0,0],[0,0]]"
   ]
  },
  {
   "cell_type": "code",
   "execution_count": 45,
   "metadata": {
    "collapsed": false
   },
   "outputs": [
    {
     "name": "stdout",
     "output_type": "stream",
     "text": [
      "[[ 1  2  8]\n",
      " [ 9  5  6]\n",
      " [ 7 13  9]\n",
      " [10 11 17]]\n"
     ]
    }
   ],
   "source": [
    "a = np.array([[1,2,3], [4,5,6], [7,8,9], [10, 11, 12]])\n",
    "b = np.array([2,0,1,2])\n",
    "a[np.arange(4),b] += 5\n",
    "print a"
   ]
  },
  {
   "cell_type": "code",
   "execution_count": 49,
   "metadata": {
    "collapsed": false
   },
   "outputs": [
    {
     "name": "stdout",
     "output_type": "stream",
     "text": [
      "[[False False]\n",
      " [ True  True]\n",
      " [ True  True]]\n",
      "[3 4 5 6]\n",
      "[3 4 5 6]\n"
     ]
    }
   ],
   "source": [
    "a = np.array([[1,2], [3, 4], [5, 6]])\n",
    "b_idx= a>2\n",
    "print b_idx\n",
    "print a[b_idx]\n",
    "print a[a>2]"
   ]
  },
  {
   "cell_type": "code",
   "execution_count": 54,
   "metadata": {
    "collapsed": false
   },
   "outputs": [
    {
     "name": "stdout",
     "output_type": "stream",
     "text": [
      "int64\n",
      "float64\n",
      "float64\n",
      "float32\n",
      "[ 1.  2.]\n"
     ]
    }
   ],
   "source": [
    "x = np.array([1,2])\n",
    "print x.dtype\n",
    "x = np.array([1.0,2.0])\n",
    "print x.dtype\n",
    "x = np.array([1.,2.])\n",
    "print x.dtype\n",
    "x = np.array([1,2],dtype=np.float32)\n",
    "print x.dtype\n",
    "print x"
   ]
  },
  {
   "cell_type": "code",
   "execution_count": 74,
   "metadata": {
    "collapsed": false
   },
   "outputs": [
    {
     "name": "stdout",
     "output_type": "stream",
     "text": [
      "[[  2.5   6. ]\n",
      " [  8.   10. ]]\n",
      "[[-0.5 -2. ]\n",
      " [-4.  -4. ]]\n",
      "[[  1.5   8. ]\n",
      " [ 12.   21. ]]\n",
      "[[ 0.66666667  0.5       ]\n",
      " [ 0.33333333  0.42857143]]\n",
      "[[ 1.          1.41421354]\n",
      " [ 1.41421354  1.73205078]]\n"
     ]
    }
   ],
   "source": [
    "x = np.array([[1,2],[2,3]],dtype=np.float32)\n",
    "y = np.array([[1.5,4],[6,7]],dtype=np.float64)\n",
    "print np.add(x,y)\n",
    "print np.subtract(x,y)\n",
    "print np.multiply(x,y)\n",
    "print np.divide(x,y)\n",
    "print np.sqrt(x)"
   ]
  },
  {
   "cell_type": "code",
   "execution_count": 85,
   "metadata": {
    "collapsed": false
   },
   "outputs": [
    {
     "name": "stdout",
     "output_type": "stream",
     "text": [
      "219\n",
      "219\n",
      "[[19 22]\n",
      " [43 50]]\n",
      "[[19 22]\n",
      " [43 50]]\n",
      "[4 6]\n",
      "[3 7]\n"
     ]
    }
   ],
   "source": [
    "x = np.array([[1,2],[3,4]])\n",
    "y = np.array([[5,6],[7,8]])\n",
    "v = np.array([9,10])\n",
    "w = np.array([11, 12])\n",
    "print v.dot(w)\n",
    "print np.dot(v,w)\n",
    "print x.dot(y)\n",
    "print np.dot(x,y)\n",
    "print np.sum(x,axis =0)\n",
    "print np.sum(x,axis =1)"
   ]
  },
  {
   "cell_type": "code",
   "execution_count": 87,
   "metadata": {
    "collapsed": false
   },
   "outputs": [
    {
     "name": "stdout",
     "output_type": "stream",
     "text": [
      "[[1 2]\n",
      " [3 4]]\n",
      "[[1 3]\n",
      " [2 4]]\n"
     ]
    }
   ],
   "source": [
    "x = np.array([[1,2], [3,4]])\n",
    "print x\n",
    "print x.T"
   ]
  },
  {
   "cell_type": "code",
   "execution_count": 104,
   "metadata": {
    "collapsed": false
   },
   "outputs": [
    {
     "name": "stdout",
     "output_type": "stream",
     "text": [
      "[ 1  2  3  4  5  6  7  8  9 10 11 12]\n",
      "[ 1  2  3  4  5  6  7  8  9 10 11 12]\n",
      "[ 1  2  3  4  5  6  7  8  9 10 11 12]\n"
     ]
    }
   ],
   "source": [
    "a = np.array([[1,2,3], [4,5,6], [7,8,9], [10, 11, 12]])\n",
    "print a.reshape(-1)\n",
    "print a.ravel()\n",
    "print a.flatten()\n",
    "#Difference between ravel and flatten is that ravel will return a view of the array and flatten will return a copy"
   ]
  },
  {
   "cell_type": "code",
   "execution_count": 109,
   "metadata": {
    "collapsed": false
   },
   "outputs": [
    {
     "name": "stdout",
     "output_type": "stream",
     "text": [
      "(3, 4, 5, 6)\n",
      "(3, 5, 4, 6)\n"
     ]
    }
   ],
   "source": [
    "a = np.ones((3,4,5,6))\n",
    "print a.shape\n",
    "print np.rollaxis(a,1,3).shape"
   ]
  },
  {
   "cell_type": "code",
   "execution_count": 122,
   "metadata": {
    "collapsed": false
   },
   "outputs": [
    {
     "name": "stdout",
     "output_type": "stream",
     "text": [
      "[0 1 2 3 4]\n",
      "(5,)\n",
      "[[[0 1 2 3 4 0 1 2 3 4]\n",
      "  [0 1 2 3 4 0 1 2 3 4]]]\n",
      "(3, 4, 5, 6)\n",
      "(3, 4, 10, 12)\n",
      "(1, 3)\n"
     ]
    }
   ],
   "source": [
    "a= np.arange(5)\n",
    "print a\n",
    "print a.shape\n",
    "print np.tile(a,(1,2,2))\n",
    "a = np.ones((3,4,5,6))\n",
    "print a.shape\n",
    "print np.tile(a,(2,2)).shape\n",
    "a = np.array([1,2,3])\n"
   ]
  },
  {
   "cell_type": "code",
   "execution_count": 143,
   "metadata": {
    "collapsed": false
   },
   "outputs": [
    {
     "name": "stdout",
     "output_type": "stream",
     "text": [
      "(2, 2)\n",
      "[[1 2 1 2]\n",
      " [3 4 3 4]]\n"
     ]
    },
    {
     "data": {
      "text/plain": [
       "array([[1, 2, 1, 2],\n",
       "       [3, 4, 3, 4],\n",
       "       [1, 2, 1, 2],\n",
       "       [3, 4, 3, 4]])"
      ]
     },
     "execution_count": 143,
     "metadata": {},
     "output_type": "execute_result"
    }
   ],
   "source": [
    "b = np.array([[1, 2], [3, 4]])\n",
    "print b.shape\n",
    "print np.tile(b,2)\n",
    "np.tile(b, (2, 2))"
   ]
  },
  {
   "cell_type": "code",
   "execution_count": 141,
   "metadata": {
    "collapsed": false
   },
   "outputs": [
    {
     "name": "stdout",
     "output_type": "stream",
     "text": [
      "[0 1 2]\n",
      "[[[0 1 2 0 1 2]\n",
      "  [0 1 2 0 1 2]]\n",
      "\n",
      " [[0 1 2 0 1 2]\n",
      "  [0 1 2 0 1 2]]]\n"
     ]
    }
   ],
   "source": [
    "a= np.arange(3)\n",
    "print a\n",
    "print np.tile(a,(2,2,2))"
   ]
  },
  {
   "cell_type": "code",
   "execution_count": 146,
   "metadata": {
    "collapsed": false
   },
   "outputs": [
    {
     "name": "stdout",
     "output_type": "stream",
     "text": [
      "[[0 1 2]\n",
      " [3 4 5]\n",
      " [6 7 8]] [[ 0  2  4]\n",
      " [ 3  5  7]\n",
      " [ 6  8 10]]\n"
     ]
    }
   ],
   "source": [
    "a = np.arange(3)\n",
    "b = np.arange(9).reshape(3,3)\n",
    "print b,a+b"
   ]
  },
  {
   "cell_type": "code",
   "execution_count": 156,
   "metadata": {
    "collapsed": false
   },
   "outputs": [
    {
     "name": "stdout",
     "output_type": "stream",
     "text": [
      "[[ 4  5]\n",
      " [ 8 10]\n",
      " [12 15]]\n"
     ]
    }
   ],
   "source": [
    "v = np.array([1,2,3]) \n",
    "w = np.array([4,5])\n",
    "print np.dot(v.reshape(3,1),w.reshape(1,2))"
   ]
  },
  {
   "cell_type": "code",
   "execution_count": null,
   "metadata": {
    "collapsed": false
   },
   "outputs": [],
   "source": [
    "x = np.arange(0, 3 * np.pi, 0.1)\n",
    "y = np.sin(x)\n",
    "plt.plot(x,y)\n",
    "plt.show()"
   ]
  },
  {
   "cell_type": "code",
   "execution_count": 12,
   "metadata": {
    "collapsed": false
   },
   "outputs": [],
   "source": [
    "W = np.random.randn(5,10)\n",
    "x = np.random.randn(10,3)\n",
    "D = W.dot(x)\n",
    "dD = np.random.randn(*D.shape)\n",
    "dW = dD.dot(x.T)\n",
    "dX = W.T.dot(dD)\n"
   ]
  },
  {
   "cell_type": "code",
   "execution_count": 19,
   "metadata": {
    "collapsed": false
   },
   "outputs": [
    {
     "name": "stdout",
     "output_type": "stream",
     "text": [
      "[ 0.53122023  0.1329313   0.27480152 -0.51287051 -0.23895199]\n"
     ]
    }
   ],
   "source": [
    "x = np.random.randn(5,4)\n",
    "print np.mean(x,axis=1)"
   ]
  },
  {
   "cell_type": "code",
   "execution_count": null,
   "metadata": {
    "collapsed": true
   },
   "outputs": [],
   "source": []
  }
 ],
 "metadata": {
  "kernelspec": {
   "display_name": "Python 2",
   "language": "python",
   "name": "python2"
  },
  "language_info": {
   "codemirror_mode": {
    "name": "ipython",
    "version": 2
   },
   "file_extension": ".py",
   "mimetype": "text/x-python",
   "name": "python",
   "nbconvert_exporter": "python",
   "pygments_lexer": "ipython2",
   "version": "2.7.11"
  }
 },
 "nbformat": 4,
 "nbformat_minor": 0
}
