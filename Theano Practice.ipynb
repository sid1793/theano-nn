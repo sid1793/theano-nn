{
 "cells": [
  {
   "cell_type": "code",
   "execution_count": 11,
   "metadata": {
    "collapsed": false
   },
   "outputs": [
    {
     "name": "stdout",
     "output_type": "stream",
     "text": [
      "False\n",
      "TensorType(float64, scalar)\n"
     ]
    }
   ],
   "source": [
    "import numpy as np\n",
    "import theano.tensor as T\n",
    "from theano import function\n",
    "x = T.dscalar('x')\n",
    "y = T.dscalar('y')\n",
    "z = x + y\n",
    "f = function([x,y],z)\n",
    "print np.allclose(f(2,3),7)\n",
    "print x.type"
   ]
  },
  {
   "cell_type": "code",
   "execution_count": 12,
   "metadata": {
    "collapsed": false
   },
   "outputs": [],
   "source": [
    "x = T.dmatrix('x')\n",
    "y = T.dmatrix('y')\n",
    "z = x + y\n",
    "f = function([x,y],z)"
   ]
  },
  {
   "cell_type": "code",
   "execution_count": 18,
   "metadata": {
    "collapsed": false
   },
   "outputs": [
    {
     "data": {
      "text/plain": [
       "array([[ 11.,  22.],\n",
       "       [ 33.,  44.]])"
      ]
     },
     "execution_count": 18,
     "metadata": {},
     "output_type": "execute_result"
    }
   ],
   "source": [
    "f(np.array([[1, 2], [3, 4]]), np.array([[10, 20], [30, 40]]))"
   ]
  },
  {
   "cell_type": "code",
   "execution_count": 30,
   "metadata": {
    "collapsed": false
   },
   "outputs": [
    {
     "data": {
      "text/plain": [
       "array([ 25.,  49.,  81.])"
      ]
     },
     "execution_count": 30,
     "metadata": {},
     "output_type": "execute_result"
    }
   ],
   "source": [
    "a = T.vector('a')\n",
    "b = T.vector('b')\n",
    "z = a**2 + b**2 + 2*a*b\n",
    "f = function([a,b],z)\n",
    "f(np.array([1, 2,4]), np.array([4, 5,5]))"
   ]
  },
  {
   "cell_type": "code",
   "execution_count": 31,
   "metadata": {
    "collapsed": true
   },
   "outputs": [],
   "source": [
    "#sigmoid function\n",
    "x = T.dmatrix('x')\n",
    "sig = 1/(1+T.exp(-x))\n",
    "log = function([x],sig)"
   ]
  },
  {
   "cell_type": "code",
   "execution_count": 32,
   "metadata": {
    "collapsed": false
   },
   "outputs": [
    {
     "data": {
      "text/plain": [
       "array([[ 0.5       ,  0.73105858],\n",
       "       [ 0.26894142,  0.11920292]])"
      ]
     },
     "execution_count": 32,
     "metadata": {},
     "output_type": "execute_result"
    }
   ],
   "source": [
    "log([[0, 1], [-1, -2]])"
   ]
  },
  {
   "cell_type": "code",
   "execution_count": 34,
   "metadata": {
    "collapsed": false
   },
   "outputs": [],
   "source": [
    "tan = (1+T.tanh(x/2))/2\n",
    "f = function([x],[sig,tan])"
   ]
  },
  {
   "cell_type": "code",
   "execution_count": 35,
   "metadata": {
    "collapsed": false
   },
   "outputs": [
    {
     "data": {
      "text/plain": [
       "[array([[ 0.5       ,  0.73105858],\n",
       "        [ 0.26894142,  0.11920292]]), array([[ 0.5       ,  0.73105858],\n",
       "        [ 0.26894142,  0.11920292]])]"
      ]
     },
     "execution_count": 35,
     "metadata": {},
     "output_type": "execute_result"
    }
   ],
   "source": [
    "f([[0, 1], [-1, -2]])"
   ]
  },
  {
   "cell_type": "code",
   "execution_count": 36,
   "metadata": {
    "collapsed": true
   },
   "outputs": [],
   "source": [
    "s,t = f([[0, 1], [-1, -2]])"
   ]
  },
  {
   "cell_type": "code",
   "execution_count": 37,
   "metadata": {
    "collapsed": false
   },
   "outputs": [
    {
     "data": {
      "text/plain": [
       "True"
      ]
     },
     "execution_count": 37,
     "metadata": {},
     "output_type": "execute_result"
    }
   ],
   "source": [
    "np.allclose(s,t)"
   ]
  },
  {
   "cell_type": "code",
   "execution_count": 38,
   "metadata": {
    "collapsed": true
   },
   "outputs": [],
   "source": [
    "from theano import shared"
   ]
  },
  {
   "cell_type": "code",
   "execution_count": 55,
   "metadata": {
    "collapsed": false
   },
   "outputs": [],
   "source": [
    "state = shared(0)\n",
    "inc = T.iscalar('inc')\n",
    "incr = function([inc],updates=[(state,state+inc)])\n",
    "decr = function([inc],updates=[(state, state-inc)])"
   ]
  },
  {
   "cell_type": "code",
   "execution_count": 57,
   "metadata": {
    "collapsed": false
   },
   "outputs": [
    {
     "name": "stdout",
     "output_type": "stream",
     "text": [
      "1\n",
      "21\n",
      "11\n"
     ]
    }
   ],
   "source": [
    "state.set_value(0)\n",
    "incr(1)\n",
    "print state.get_value()\n",
    "incr(20)\n",
    "print state.get_value()\n",
    "decr(10)\n",
    "print state.get_value()"
   ]
  },
  {
   "cell_type": "code",
   "execution_count": 74,
   "metadata": {
    "collapsed": false
   },
   "outputs": [
    {
     "name": "stdout",
     "output_type": "stream",
     "text": [
      "float64\n",
      "0\n"
     ]
    }
   ],
   "source": [
    "state.set_value(0)\n",
    "fn = state * 2 + inc\n",
    "foo = T.scalar(dtype=state.dtype)\n",
    "f = function([inc,foo],fn,givens=[(state,foo)])\n",
    "print f(3,4)\n",
    "print state.get_value()"
   ]
  },
  {
   "cell_type": "code",
   "execution_count": 77,
   "metadata": {
    "collapsed": false
   },
   "outputs": [],
   "source": [
    "from theano.tensor.shared_randomstreams import RandomStreams"
   ]
  },
  {
   "cell_type": "code",
   "execution_count": 90,
   "metadata": {
    "collapsed": false
   },
   "outputs": [
    {
     "name": "stdout",
     "output_type": "stream",
     "text": [
      "[[ 0.75718064  0.1130526 ]\n",
      " [ 0.00607781  0.8721389 ]]\n",
      "[[ 0.42742609  1.74049825]\n",
      " [-0.02169041  1.48401086]]\n",
      "[array([[ 0.,  0.],\n",
      "       [ 0.,  0.]]), array([[ 0.31027075,  0.24150866],\n",
      "       [ 0.56740797,  0.73226671]])]\n"
     ]
    }
   ],
   "source": [
    "srng = RandomStreams(seed=1234)\n",
    "r_u = srng.uniform((2,2))\n",
    "r_n = srng.normal((2,2))\n",
    "f_u = function([],r_u)\n",
    "f_n = function([],r_n, no_default_updates=True)\n",
    "print f_u()\n",
    "print f_n()\n",
    "close_zero = function([],[r_u+r_u - 2 * r_u,r_u])\n",
    "print close_zero()"
   ]
  },
  {
   "cell_type": "markdown",
   "metadata": {
    "collapsed": true
   },
   "source": [
    "### Logistic Regression Example"
   ]
  },
  {
   "cell_type": "code",
   "execution_count": null,
   "metadata": {
    "collapsed": false
   },
   "outputs": [],
   "source": [
    "import numpy\n",
    "import theano\n",
    "import theano.tensor as T\n",
    "rng = numpy.random\n",
    "\n",
    "N = 400                                # training sample size\n",
    "feats = 784                               # number of input variables\n",
    "\n",
    "# generate a dataset: D = (input_values, target_class)\n",
    "D = (rng.randn(N, feats), rng.randint(size=N, low=0, high=2))\n",
    "training_steps = 10000\n",
    "\n",
    "x = T.matrix('x')\n",
    "y = T.vector('y')\n",
    "\n",
    "w = theano.shared(rng.randn(feats),name='w')\n",
    "b = theano.shared(0. , name = 'b')\n",
    "\n",
    "print ('Initial model...\\n')\n",
    "print 'W=%s' %(w.get_value())\n",
    "print 'b=%s' %(b.get_value())\n",
    "\n",
    "sig = 1/(1 + T.exp(-T.dot(x,w)-b))\n",
    "pred = sig > 0.5\n",
    "crs_ent = -y * T.log(sig) - (1-y) * T.log(1-sig) \n",
    "cost = crs_ent.mean() + 0.01 * (w**2).sum()\n",
    "gw , gb = T.grad(cost,[w,b])\n",
    "\n",
    "train = theano.function(\n",
    "                        inputs = [x,y],\n",
    "                        outputs = [pred,crs_ent],\n",
    "                        updates = [(w,w-0.01*gw),(b,b-0.01*gb)]\n",
    "                       )\n",
    "predict = theano.function(\n",
    "                        inputs = [x],\n",
    "                        outputs = [pred])\n",
    "\n",
    "for i in range(training_steps):\n",
    "    print 'Iteration %s' %(i)\n",
    "    prediction,error = train(D[0],D[1])\n",
    "    print 'Prediction = %s , Error = %s' %(prediction,error)\n",
    "\n",
    "print(\"Final model:\")\n",
    "print(w.get_value())\n",
    "print(b.get_value())\n",
    "print(\"target values for D:\")\n",
    "print(D[1])\n",
    "print(\"prediction on D:\")\n",
    "print(predict(D[0]))"
   ]
  },
  {
   "cell_type": "code",
   "execution_count": null,
   "metadata": {
    "collapsed": true
   },
   "outputs": [],
   "source": []
  }
 ],
 "metadata": {
  "kernelspec": {
   "display_name": "Python 2",
   "language": "python",
   "name": "python2"
  },
  "language_info": {
   "codemirror_mode": {
    "name": "ipython",
    "version": 2
   },
   "file_extension": ".py",
   "mimetype": "text/x-python",
   "name": "python",
   "nbconvert_exporter": "python",
   "pygments_lexer": "ipython2",
   "version": "2.7.11"
  }
 },
 "nbformat": 4,
 "nbformat_minor": 0
}
